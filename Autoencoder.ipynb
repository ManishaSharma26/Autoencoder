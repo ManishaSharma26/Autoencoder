{
  "cells": [
    {
      "cell_type": "code",
      "execution_count": null,
      "metadata": {
        "id": "47GBwI8geAw7"
      },
      "outputs": [],
      "source": [
        "# Imports.\n",
        "import numpy as np\n",
        "import pandas as pd\n",
        "import matplotlib.pyplot as plt\n",
        "import keras\n",
        "import os\n",
        "from keras.layers import Input, Dense\n",
        "from keras.models import Model\n",
        "from keras.datasets import mnist\n",
        "\n",
        "import numpy as np\n",
        "\n",
        "import matplotlib.pyplot as plt\n",
        "%matplotlib inline"
      ]
    },
    {
      "cell_type": "code",
      "execution_count": null,
      "metadata": {
        "colab": {
          "base_uri": "https://localhost:8080/"
        },
        "id": "_UHXXllNpNla",
        "outputId": "6b713a94-af2b-4009-a209-b557127541ce"
      },
      "outputs": [
        {
          "name": "stdout",
          "output_type": "stream",
          "text": [
            "Downloading data from https://storage.googleapis.com/tensorflow/tf-keras-datasets/mnist.npz\n",
            "11493376/11490434 [==============================] - 0s 0us/step\n",
            "11501568/11490434 [==============================] - 0s 0us/step\n",
            "XTrain class =  <class 'numpy.ndarray'>\n",
            "YTrain class =  <class 'numpy.ndarray'>\n",
            "XTrain shape =  (60000, 28, 28)\n",
            "XTest shape =  (10000, 28, 28)\n",
            "YTrain shape =  (60000,)\n",
            "YTest shape =  (10000,)\n",
            "YTrain values =  [0 1 2 3 4 5 6 7 8 9]\n",
            "YTest values =  [0 1 2 3 4 5 6 7 8 9]\n",
            "YTrain distribution =  {0: 5923, 1: 6742, 2: 5958, 3: 6131, 4: 5842, 5: 5421, 6: 5918, 7: 6265, 8: 5851, 9: 5949}\n",
            "YTest distribution =  {0: 980, 1: 1135, 2: 1032, 3: 1010, 4: 982, 5: 892, 6: 958, 7: 1028, 8: 974, 9: 1009}\n"
          ]
        }
      ],
      "source": [
        "#Load MNIST dataset.\n",
        "(XTrain, YTrain), (XTest, YTest) = mnist.load_data()\n",
        "\n",
        "print('XTrain class = ',type(XTrain))\n",
        "print('YTrain class = ',type(YTrain))\n",
        "\n",
        "# shape of our dataset.\n",
        "print('XTrain shape = ',XTrain.shape)\n",
        "print('XTest shape = ',XTest.shape)\n",
        "print('YTrain shape = ',YTrain.shape)\n",
        "print('YTest shape = ',YTest.shape)\n",
        "# Number of distinct values of our MNIST target\n",
        "print('YTrain values = ',np.unique(YTrain))\n",
        "print('YTest values = ',np.unique(YTest))\n",
        "# Distribution of classes in our dataset.\n",
        "unique, counts = np.unique(YTrain, return_counts=True)\n",
        "print('YTrain distribution = ',dict(zip(unique, counts)))\n",
        "unique, counts = np.unique(YTest, return_counts=True)\n",
        "print('YTest distribution = ',dict(zip(unique, counts)))"
      ]
    },
    {
      "cell_type": "code",
      "execution_count": null,
      "metadata": {
        "colab": {
          "base_uri": "https://localhost:8080/",
          "height": 350
        },
        "id": "L_gLwKX0pSUD",
        "outputId": "0dc41ded-a3bd-4475-f51e-a91f1f3d0606"
      },
      "outputs": [
        {
          "data": {
            "image/png": "[encoded data removed]",
            "text/plain": [
              "<Figure size 1080x360 with 2 Axes>"
            ]
          },
          "metadata": {},
          "output_type": "display_data"
        }
      ],
      "source": [
        "# we plot an histogram distribution of our test and train data.\n",
        "fig, axs = plt.subplots(1,2,figsize=(15,5)) \n",
        "axs[0].hist(YTrain, ec='black')\n",
        "axs[0].set_title('YTrain data')\n",
        "axs[0].set_xlabel('Classes') \n",
        "axs[0].set_ylabel('Number of occurrences')\n",
        "axs[1].hist(YTest, ec='black')\n",
        "axs[1].set_title('YTest data')\n",
        "axs[1].set_xlabel('Classes') \n",
        "axs[1].set_ylabel('Number of occurrences')\n",
        "# We want to show all ticks...\n",
        "axs[0].set_xticks(np.arange(10))\n",
        "axs[1].set_xticks(np.arange(10))\n",
        "\n",
        "plt.show()\n"
      ]
    },
    {
      "cell_type": "code",
      "execution_count": null,
      "metadata": {
        "colab": {
          "base_uri": "https://localhost:8080/"
        },
        "id": "-Xnwrz8Upbkp",
        "outputId": "fb13f7a4-5498-4454-8d04-ab1f22806428"
      },
      "outputs": [
        {
          "name": "stdout",
          "output_type": "stream",
          "text": [
            "(60000, 784)\n",
            "(10000, 784)\n"
          ]
        }
      ],
      "source": [
        "# Data normalization.\n",
        "XTrain = XTrain.astype('float32') / 255\n",
        "XTest = XTest.astype('float32') / 255\n",
        "# data reshapping.\n",
        "XTrain = XTrain.reshape((len(XTrain), np.prod(XTrain.shape[1:])))\n",
        "XTest = XTest.reshape((len(XTest), np.prod(XTest.shape[1:])))\n",
        "\n",
        "print (XTrain.shape)\n",
        "print (XTest.shape)"
      ]
    },
    {
      "cell_type": "code",
      "execution_count": null,
      "metadata": {
        "colab": {
          "base_uri": "https://localhost:8080/"
        },
        "id": "vOjQ71XJplsR",
        "outputId": "97ffdad9-6ba0-4ee7-ec9d-9c391aaaa483"
      },
      "outputs": [
        {
          "name": "stdout",
          "output_type": "stream",
          "text": [
            "Model: \"model_1\"\n",
            "_________________________________________________________________\n",
            " Layer (type)                Output Shape              Param #   \n",
            "=================================================================\n",
            " input_2 (InputLayer)        [(None, 784)]             0         \n",
            "                                                                 \n",
            " dense_2 (Dense)             (None, 64)                50240     \n",
            "                                                                 \n",
            " dense_3 (Dense)             (None, 784)               50960     \n",
            "                                                                 \n",
            "=================================================================\n",
            "Total params: 101,200\n",
            "Trainable params: 101,200\n",
            "Non-trainable params: 0\n",
            "_________________________________________________________________\n"
          ]
        }
      ],
      "source": [
        "InputModel = Input(shape=(784,))\n",
        "EncodedLayer = Dense(64, activation='relu')(InputModel)\n",
        "DecodedLayer = Dense(784, activation='sigmoid')(EncodedLayer)\n",
        "\n",
        "AutoencoderModel = Model(InputModel, DecodedLayer)\n",
        "# we can summarize our model.\n",
        "AutoencoderModel.summary()"
      ]
    },
    {
      "cell_type": "code",
      "execution_count": null,
      "metadata": {
        "colab": {
          "background_save": true,
          "base_uri": "https://localhost:8080/"
        },
        "id": "vsPVR7hup1K4",
        "outputId": "80df694b-bb90-4911-ebf8-ba1facef30c8"
      },
      "outputs": [
        {
          "name": "stdout",
          "output_type": "stream",
          "text": [
            "Epoch 1/10\n",
            "15000/15000 [==============================] - 36s 2ms/step - loss: 0.6845 - val_loss: 0.6698\n",
            "Epoch 2/10\n",
            "15000/15000 [==============================] - 34s 2ms/step - loss: 0.6332 - val_loss: 0.5767\n",
            "Epoch 3/10\n",
            "15000/15000 [==============================] - 34s 2ms/step - loss: 0.4978 - val_loss: 0.4166\n",
            "Epoch 4/10\n",
            "15000/15000 [==============================] - 35s 2ms/step - loss: 0.3685 - val_loss: 0.3303\n",
            "Epoch 5/10\n",
            "15000/15000 [==============================] - 34s 2ms/step - loss: 0.3153 - val_loss: 0.3016\n",
            "Epoch 6/10\n",
            "15000/15000 [==============================] - 35s 2ms/step - loss: 0.2966 - val_loss: 0.2903\n",
            "Epoch 7/10\n",
            "15000/15000 [==============================] - 34s 2ms/step - loss: 0.2883 - val_loss: 0.2845\n",
            "Epoch 8/10\n",
            "15000/15000 [==============================] - 33s 2ms/step - loss: 0.2837 - val_loss: 0.2809\n",
            "Epoch 9/10\n",
            "15000/15000 [==============================] - 33s 2ms/step - loss: 0.2807 - val_loss: 0.2784\n",
            "Epoch 10/10\n",
            "15000/15000 [==============================] - 35s 2ms/step - loss: 0.2784 - val_loss: 0.2765\n"
          ]
        }
      ],
      "source": [
        "# Let's train the model using adadelta optimizer\n",
        "AutoencoderModel.compile(optimizer='adadelta', loss='binary_crossentropy')\n",
        "\n",
        "history = AutoencoderModel.fit(XTrain, XTrain,\n",
        "                    batch_size=4,\n",
        "                    epochs=10,\n",
        "                    shuffle=True,\n",
        "                    validation_data=(XTest, XTest))\n",
        "# Make prediction to decode the digits\n",
        "DecodedDigits = AutoencoderModel.predict(XTest)"
      ]
    },
    {
      "cell_type": "code",
      "execution_count": null,
      "metadata": {
        "colab": {
          "base_uri": "https://localhost:8080/",
          "height": 313
        },
        "id": "PiSvOUbFthGR",
        "outputId": "35c22446-1239-4438-ce56-8a69e142404e"
      },
      "outputs": [
        {
          "name": "stdout",
          "output_type": "stream",
          "text": [
            "dict_keys(['loss', 'val_loss'])\n"
          ]
        },
        {
          "data": {
            "image/png": "[encoded data removed]",
            "text/plain": [
              "<Figure size 432x288 with 1 Axes>"
            ]
          },
          "metadata": {},
          "output_type": "display_data"
        }
      ],
      "source": [
        "def plotmodelhistory(history): \n",
        "    plt.plot(history.history['loss'])\n",
        "    plt.plot(history.history['val_loss'])\n",
        "    plt.title('Autoencoder Model loss')\n",
        "    plt.ylabel('Loss')\n",
        "    plt.xlabel('Epoch')\n",
        "    plt.legend(['Train', 'Test'], loc='upper left')\n",
        "    plt.show()\n",
        "# list all data in history\n",
        "print(history.history.keys())\n",
        "# visualization of the loss minimization during the training process\n",
        "plotmodelhistory(history)"
      ]
    },
    {
      "cell_type": "code",
      "execution_count": null,
      "metadata": {
        "colab": {
          "base_uri": "https://localhost:8080/",
          "height": 252
        },
        "id": "OLINApdTtpyA",
        "outputId": "dafa3fee-2f61-468e-95d5-05d7ea0d3a65"
      },
      "outputs": [
        {
          "data": {
            "image/png": "[encoded data removed]",
            "text/plain": [
              "<Figure size 1440x288 with 10 Axes>"
            ]
          },
          "metadata": {},
          "output_type": "display_data"
        }
      ],
      "source": [
        "n=5\n",
        "plt.figure(figsize=(20, 4))\n",
        "for i in range(n):\n",
        "    ax = plt.subplot(2, n, i + 1)\n",
        "    # input image\n",
        "    plt.imshow(XTest[i+10].reshape(28, 28))\n",
        "    plt.gray()\n",
        "    ax.get_xaxis().set_visible(False)\n",
        "    ax.get_yaxis().set_visible(False)\n",
        "    ax = plt.subplot(2, n, i + 1 + n)\n",
        "    # Image decoded by our Auto-encoder\n",
        "    plt.imshow(DecodedDigits[i+10].reshape(28, 28))\n",
        "    plt.gray()\n",
        "    ax.get_xaxis().set_visible(False)\n",
        "    ax.get_yaxis().set_visible(False)\n",
        "plt.show()"
      ]
    }
  ],
  "metadata": {
    "colab": {
      "name": "AssignmentAU.ipynb",
      "provenance": []
    },
    "kernelspec": {
      "display_name": "Python 3",
      "name": "python3"
    },
    "language_info": {
      "name": "python"
    }
  },
  "nbformat": 4,
  "nbformat_minor": 0
}